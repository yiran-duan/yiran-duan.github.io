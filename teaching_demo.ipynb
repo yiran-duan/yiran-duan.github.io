{
  "nbformat": 4,
  "nbformat_minor": 0,
  "metadata": {
    "colab": {
      "provenance": [],
      "authorship_tag": "ABX9TyNiW7zvzC4PiEpKDXqa/gop",
      "include_colab_link": true
    },
    "kernelspec": {
      "name": "python3",
      "display_name": "Python 3"
    },
    "language_info": {
      "name": "python"
    }
  },
  "cells": [
    {
      "cell_type": "markdown",
      "metadata": {
        "id": "view-in-github",
        "colab_type": "text"
      },
      "source": [
        "<a href=\"https://colab.research.google.com/github/yiran-duan/yiran-duan.github.io/blob/master/teaching_demo.ipynb\" target=\"_parent\"><img src=\"https://colab.research.google.com/assets/colab-badge.svg\" alt=\"Open In Colab\"/></a>"
      ]
    },
    {
      "cell_type": "code",
      "source": [
        "print(\"\")\n",
        "print(\"\")"
      ],
      "metadata": {
        "id": "tT4BCJ35u06s"
      },
      "execution_count": null,
      "outputs": []
    },
    {
      "cell_type": "code",
      "source": [
        "def print_lyrics():\n",
        "  print(\"\")\n",
        "  print(\"\")"
      ],
      "metadata": {
        "id": "AY541CbBS9mt"
      },
      "execution_count": 2,
      "outputs": []
    },
    {
      "cell_type": "code",
      "source": [
        "print_lyrics()"
      ],
      "metadata": {
        "colab": {
          "base_uri": "https://localhost:8080/"
        },
        "id": "V01Ug_wXTGq8",
        "outputId": "c978fe44-0ae6-4f9c-843f-65cb3860ebd2"
      },
      "execution_count": 5,
      "outputs": [
        {
          "output_type": "stream",
          "name": "stdout",
          "text": [
            "\n",
            "\n"
          ]
        }
      ]
    },
    {
      "cell_type": "code",
      "source": [
        "print(\"\")\n",
        "print(\"\")\n",
        "print(\"\")\n",
        "print(\"\")\n",
        "print(\"\")\n",
        "print(\"\")"
      ],
      "metadata": {
        "id": "FXwLChEpTNE1"
      },
      "execution_count": null,
      "outputs": []
    },
    {
      "cell_type": "code",
      "source": [
        "print_lyrics()\n",
        "print_lyrics()\n",
        "print_lyrics()"
      ],
      "metadata": {
        "id": "85tXuha_TV2D"
      },
      "execution_count": null,
      "outputs": []
    },
    {
      "cell_type": "code",
      "source": [
        "#change a word in the lyrics"
      ],
      "metadata": {
        "id": "fHExQ_dUTYVL"
      },
      "execution_count": null,
      "outputs": []
    },
    {
      "cell_type": "code",
      "source": [
        "def print():\n",
        "    return \"hi\""
      ],
      "metadata": {
        "id": "vT1FjvvyTddl"
      },
      "execution_count": null,
      "outputs": []
    },
    {
      "cell_type": "code",
      "source": [
        "print()"
      ],
      "metadata": {
        "id": "j2CggV7IThwW"
      },
      "execution_count": null,
      "outputs": []
    },
    {
      "cell_type": "code",
      "source": [
        "print(\"hiiii\")"
      ],
      "metadata": {
        "id": "cTW9AmaSTkJe"
      },
      "execution_count": null,
      "outputs": []
    },
    {
      "cell_type": "code",
      "source": [],
      "metadata": {
        "id": "P5CzS8UoTmti"
      },
      "execution_count": null,
      "outputs": []
    },
    {
      "cell_type": "code",
      "source": [
        "#syntax_v2\n",
        "def introduce_myself(name):\n",
        "    print('Hi my name is',name)"
      ],
      "metadata": {
        "id": "hsnKgdu1TnVY"
      },
      "execution_count": 4,
      "outputs": []
    },
    {
      "cell_type": "code",
      "source": [
        "introduce_myself('Yiran')"
      ],
      "metadata": {
        "id": "NYmBqBN8Ts6p"
      },
      "execution_count": null,
      "outputs": []
    },
    {
      "cell_type": "code",
      "source": [
        "introduce_myself('Yiran','student')"
      ],
      "metadata": {
        "id": "hJHYU068Txjl"
      },
      "execution_count": null,
      "outputs": []
    },
    {
      "cell_type": "code",
      "source": [
        "def introduce_myself(name, profession):\n",
        "    print('Hi my name is',name)\n",
        "    print('I am a',profession)"
      ],
      "metadata": {
        "id": "9FEpiSruT1mt"
      },
      "execution_count": null,
      "outputs": []
    },
    {
      "cell_type": "code",
      "source": [
        "introduce_myself('Yiran','student')"
      ],
      "metadata": {
        "id": "0uxw3eHlUO7o"
      },
      "execution_count": null,
      "outputs": []
    },
    {
      "cell_type": "code",
      "source": [
        "introduce_myself('student','Yiran')"
      ],
      "metadata": {
        "id": "bDEVkh_wURNf"
      },
      "execution_count": null,
      "outputs": []
    },
    {
      "cell_type": "code",
      "source": [
        "#default parameters\n",
        "def check_profession(profession = 'student'):\n",
        "    if profession == 'student':\n",
        "        print('I am a student')\n",
        "    else:\n",
        "        print('I am not a student')"
      ],
      "metadata": {
        "id": "j-dZRWsnUUXk"
      },
      "execution_count": null,
      "outputs": []
    },
    {
      "cell_type": "code",
      "source": [
        "check_profession('student')"
      ],
      "metadata": {
        "id": "-LknIccHUeQK"
      },
      "execution_count": null,
      "outputs": []
    },
    {
      "cell_type": "code",
      "source": [
        "check_profession('faculty')"
      ],
      "metadata": {
        "id": "BGNGNqGqUg9X"
      },
      "execution_count": null,
      "outputs": []
    },
    {
      "cell_type": "code",
      "source": [
        "check_profession()"
      ],
      "metadata": {
        "id": "rzXmh52MUikv"
      },
      "execution_count": null,
      "outputs": []
    },
    {
      "cell_type": "code",
      "source": [
        "def hello():\n",
        "    return 'hello function'\n",
        "\n",
        "hello().upper()"
      ],
      "metadata": {
        "id": "xbv8wEDzUlNf"
      },
      "execution_count": null,
      "outputs": []
    },
    {
      "cell_type": "code",
      "source": [
        "def hello2():\n",
        "    print('hello')\n",
        "\n",
        "hello2().upper()"
      ],
      "metadata": {
        "id": "toKdx9iIU6hW"
      },
      "execution_count": null,
      "outputs": []
    },
    {
      "cell_type": "code",
      "source": [
        "def calculate_bill(amount, tax_rate=0.04):\n",
        "    tax = amount * tax_rate\n",
        "    total = amount + tax\n",
        "    return total"
      ],
      "metadata": {
        "id": "rWqhGj6DU81A"
      },
      "execution_count": 1,
      "outputs": []
    },
    {
      "cell_type": "code",
      "source": [
        "calculate_bill(100)"
      ],
      "metadata": {
        "colab": {
          "base_uri": "https://localhost:8080/"
        },
        "id": "ZqgLkmyWU_0M",
        "outputId": "169f4f32-2c13-4f0a-928a-9aa79e713cdd"
      },
      "execution_count": 3,
      "outputs": [
        {
          "output_type": "execute_result",
          "data": {
            "text/plain": [
              "104.0"
            ]
          },
          "metadata": {},
          "execution_count": 3
        }
      ]
    },
    {
      "cell_type": "code",
      "source": [
        "print(calculate_bill(100, 0.08))"
      ],
      "metadata": {
        "id": "FcD3ql2BVDYP"
      },
      "execution_count": null,
      "outputs": []
    }
  ]
}